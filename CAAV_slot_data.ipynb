{
 "cells": [
  {
   "cell_type": "markdown",
   "id": "4ce21e3b",
   "metadata": {},
   "source": [
    "# 1. Import and combine all excel files"
   ]
  },
  {
   "cell_type": "code",
   "execution_count": 1,
   "id": "214ec14c",
   "metadata": {},
   "outputs": [],
   "source": [
    "import numpy as np\n",
    "import pandas as pd\n",
    "import datetime as dt\n",
    "import os\n",
    "from pathlib import Path\n",
    "import warnings"
   ]
  },
  {
   "cell_type": "code",
   "execution_count": 2,
   "id": "5bb47c3f",
   "metadata": {},
   "outputs": [],
   "source": [
    "warnings.simplefilter(\"ignore\")"
   ]
  },
  {
   "cell_type": "code",
   "execution_count": 3,
   "id": "ad9ffc37",
   "metadata": {},
   "outputs": [],
   "source": [
    "# Get all excel files in data folder:\n",
    "files = Path(os.getcwd()+'\\\\Querry Slot Data').rglob('*.xlsx')"
   ]
  },
  {
   "cell_type": "code",
   "execution_count": 4,
   "id": "9e6df23d",
   "metadata": {},
   "outputs": [],
   "source": [
    "file_list = [str(i) for i in files]"
   ]
  },
  {
   "cell_type": "code",
   "execution_count": 5,
   "id": "1b21a7e3",
   "metadata": {},
   "outputs": [],
   "source": [
    "file_name = os.listdir(os.getcwd()+'\\\\Querry Slot Data')"
   ]
  },
  {
   "cell_type": "code",
   "execution_count": 8,
   "id": "53cbc356",
   "metadata": {},
   "outputs": [],
   "source": [
    "# Loop through all the excel files and merge them into one:\n",
    "df = pd.DataFrame()\n",
    "for i in range(len(file_list)):\n",
    "    df_temp = pd.read_excel(file_list[i])\n",
    "    # Get additional info from file name:\n",
    "    df_temp['file_name'] = file_name[i]\n",
    "    df_temp['file_name'].replace('.xlsx','', inplace = True, regex = True)\n",
    "    info = df_temp['file_name'].str.split('_', expand=True)\n",
    "    info.columns = ['Reportdate','Season','Airport','Slot_type','Network']\n",
    "    df_temp = pd.concat([df_temp,info],axis=1)\n",
    "    \n",
    "    # Drop unnecessary columns:\n",
    "    df_temp.drop(['TIME.1','file_name'], axis=1, inplace = True, errors = 'ignore')\n",
    "    # Melt slot date columns before merging:\n",
    "    df_temp = pd.melt(df_temp, id_vars=['TIME','Reportdate', 'Season', 'Airport', 'Slot_type', 'Network'],\n",
    "        value_vars=df_temp.columns.difference(['TIME','Reportdate', 'Season', 'Airport', 'Slot_type', 'Network']),\n",
    "        var_name='Slot Date', value_name='No. Slot')\n",
    "    df = pd.concat([df_temp,df], axis = 0)"
   ]
  },
  {
   "cell_type": "code",
   "execution_count": 9,
   "id": "206150bb",
   "metadata": {},
   "outputs": [],
   "source": [
    "df['day'] = df['Slot Date'].astype('str').apply(lambda x: x.split('-')[0])\n",
    "df['month'] = df['Slot Date'].astype('str').apply(lambda x: x.split('-')[1])"
   ]
  },
  {
   "cell_type": "code",
   "execution_count": 10,
   "id": "73d045bc",
   "metadata": {},
   "outputs": [],
   "source": [
    "df['season2'] = df['Season'].apply(lambda x: x[0])"
   ]
  },
  {
   "cell_type": "code",
   "execution_count": 12,
   "id": "eb6c8eef",
   "metadata": {},
   "outputs": [],
   "source": [
    "df['year'] = df['Season'].astype('str').str.extract('(\\d+)')"
   ]
  },
  {
   "cell_type": "code",
   "execution_count": 13,
   "id": "44356053",
   "metadata": {},
   "outputs": [],
   "source": [
    "df['year'] = df.apply(lambda x: int('20'+x['year'])+1 \n",
    "                      if (x['season2'] == 'W') and (x['month'] in (['Jan','Feb','Mar'])) \n",
    "                      else int('20'+x['year']), axis=1)"
   ]
  },
  {
   "cell_type": "code",
   "execution_count": 15,
   "id": "64710cb5",
   "metadata": {},
   "outputs": [],
   "source": [
    "df['Reportdate'] = pd.to_datetime(df['Reportdate'], format='%Y%m%d')"
   ]
  },
  {
   "cell_type": "code",
   "execution_count": 18,
   "id": "9a5176af",
   "metadata": {},
   "outputs": [],
   "source": [
    "d = {'Jan':1, 'Feb':2, 'Mar':3, 'Apr':4, 'May':5, 'Jun':6, 'Jul':7, 'Aug':8, 'Sep':9, 'Oct':10, 'Nov':11, 'Dec':12}\n",
    "df['month'] = df['month'].map(d)"
   ]
  },
  {
   "cell_type": "code",
   "execution_count": 19,
   "id": "0644818c",
   "metadata": {},
   "outputs": [],
   "source": [
    "df['Slot Date'] = pd.to_datetime(df[['year', 'month', 'day']])"
   ]
  },
  {
   "cell_type": "code",
   "execution_count": 21,
   "id": "9c430e53",
   "metadata": {},
   "outputs": [],
   "source": [
    "result = df[['TIME','Reportdate','Season','Airport','Slot_type','Network','Slot Date','No. Slot']]"
   ]
  },
  {
   "cell_type": "code",
   "execution_count": 26,
   "id": "4339821f",
   "metadata": {},
   "outputs": [],
   "source": [
    "writer = pd.ExcelWriter(\"result.xlsx\",  datetime_format='YYYY-MM-DD')\n",
    "\n",
    "result.to_excel(writer,\"Sheet1\", index=False)\n",
    "writer.close()"
   ]
  },
  {
   "cell_type": "code",
   "execution_count": null,
   "id": "95a30cd4",
   "metadata": {},
   "outputs": [],
   "source": []
  }
 ],
 "metadata": {
  "kernelspec": {
   "display_name": "Python 3 (ipykernel)",
   "language": "python",
   "name": "python3"
  },
  "language_info": {
   "codemirror_mode": {
    "name": "ipython",
    "version": 3
   },
   "file_extension": ".py",
   "mimetype": "text/x-python",
   "name": "python",
   "nbconvert_exporter": "python",
   "pygments_lexer": "ipython3",
   "version": "3.9.7"
  }
 },
 "nbformat": 4,
 "nbformat_minor": 5
}
